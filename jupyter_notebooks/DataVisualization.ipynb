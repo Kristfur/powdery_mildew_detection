{
 "cells": [
  {
   "cell_type": "markdown",
   "metadata": {
    "id": "0aStgWSO0E0E"
   },
   "source": [
    "# Data Visualization"
   ]
  },
  {
   "cell_type": "markdown",
   "metadata": {
    "id": "1eLEkw5O0ECa"
   },
   "source": [
    "## Objectives\n",
    "\n",
    "Answer business requirement 1:\n",
    "- The client is interested in conducting a study to visually differentiate a healthy cherry leaf from one with powdery mildew.\n",
    "\n",
    "## Inputs\n",
    "- inputs/mildew_detection/cherry_leaves/train\n",
    "- inputs/mildew_detection/cherry_leaves/test\n",
    "- inputs/mildew_detection/cherry_leaves/validation\n",
    "\n",
    "## Outputs\n",
    "\n",
    "- Image size pickle file\n",
    "- Mean and variability of images for healthy and infected leaves\n",
    "- Image to show contrast between healthy and infected leaves\n",
    "- Images that can be used to answer business requirement 1\n",
    "- Label distribution for train, validate and test folders\n",
    "\n",
    "## Additional Comments\n",
    "\n",
    "- None\n",
    "\n"
   ]
  },
  {
   "cell_type": "markdown",
   "metadata": {
    "id": "9uWZXH9LwoQg"
   },
   "source": [
    "---"
   ]
  },
  {
   "cell_type": "markdown",
   "metadata": {
    "id": "cqP-UeN-z3i2"
   },
   "source": [
    "# Get directories\n",
    "## Change working directories"
   ]
  },
  {
   "cell_type": "code",
   "execution_count": 1,
   "metadata": {
    "id": "wZfF_j-Bz3i4",
    "outputId": "66943449-1436-4c3d-85c7-b85f9f78349b"
   },
   "outputs": [
    {
     "name": "stdout",
     "output_type": "stream",
     "text": [
      "You set a new current directory\n"
     ]
    },
    {
     "data": {
      "text/plain": [
       "'/workspaces/powdery_mildew_detection'"
      ]
     },
     "execution_count": 1,
     "metadata": {},
     "output_type": "execute_result"
    }
   ],
   "source": [
    "import os\n",
    "\n",
    "current_dir = os.getcwd()\n",
    "os.chdir(os.path.dirname(current_dir))\n",
    "print(\"You set a new current directory\")\n",
    "current_dir = os.getcwd()\n",
    "current_dir"
   ]
  },
  {
   "cell_type": "markdown",
   "metadata": {
    "id": "-mavJ8DibrcQ"
   },
   "source": [
    "## Import Libraries"
   ]
  },
  {
   "cell_type": "code",
   "execution_count": 22,
   "metadata": {},
   "outputs": [],
   "source": [
    "import pandas as pd\n",
    "import numpy as np\n",
    "import matplotlib.pyplot as plt\n",
    "import seaborn as sns\n",
    "import joblib\n",
    "sns.set_style(\"white\")\n",
    "from matplotlib.image import imread"
   ]
  },
  {
   "cell_type": "markdown",
   "metadata": {},
   "source": [
    "## Set input directories\n",
    "Set train, test, and validation paths"
   ]
  },
  {
   "cell_type": "code",
   "execution_count": null,
   "metadata": {},
   "outputs": [],
   "source": [
    "my_data_dir = 'inputs/mildew_detection/cherry_leaves'\n",
    "train_path = my_data_dir + '/train'\n",
    "validation_path = my_data_dir + '/validation'\n",
    "test_path = my_data_dir + '/test'"
   ]
  },
  {
   "cell_type": "markdown",
   "metadata": {},
   "source": [
    "## Set output directory"
   ]
  },
  {
   "cell_type": "code",
   "execution_count": 18,
   "metadata": {},
   "outputs": [
    {
     "name": "stdout",
     "output_type": "stream",
     "text": [
      "Old version is already available create a new version.\n"
     ]
    }
   ],
   "source": [
    "version = 'v1'\n",
    "file_path = f'outputs/{version}'\n",
    "\n",
    "if 'outputs' in os.listdir(current_dir) and version in os.listdir(current_dir + '/outputs'):\n",
    "  print('Old version is already available create a new version.')\n",
    "  pass\n",
    "else:\n",
    "  os.makedirs(name=file_path)"
   ]
  },
  {
   "cell_type": "markdown",
   "metadata": {},
   "source": [
    "## Set label names\n"
   ]
  },
  {
   "cell_type": "code",
   "execution_count": 19,
   "metadata": {},
   "outputs": [
    {
     "name": "stdout",
     "output_type": "stream",
     "text": [
      "Label for the images are ['healthy', 'powdery_mildew']\n"
     ]
    }
   ],
   "source": [
    "labels = os.listdir(train_path)\n",
    "print('Label for the images are',labels)"
   ]
  },
  {
   "cell_type": "markdown",
   "metadata": {},
   "source": [
    "# Data visualization of images\n",
    "\n",
    "## Label distribution\n",
    "Calculate label distribution"
   ]
  },
  {
   "cell_type": "code",
   "execution_count": 20,
   "metadata": {},
   "outputs": [
    {
     "data": {
      "text/html": [
       "<div>\n",
       "<style scoped>\n",
       "    .dataframe tbody tr th:only-of-type {\n",
       "        vertical-align: middle;\n",
       "    }\n",
       "\n",
       "    .dataframe tbody tr th {\n",
       "        vertical-align: top;\n",
       "    }\n",
       "\n",
       "    .dataframe thead th {\n",
       "        text-align: right;\n",
       "    }\n",
       "</style>\n",
       "<table border=\"1\" class=\"dataframe\">\n",
       "  <thead>\n",
       "    <tr style=\"text-align: right;\">\n",
       "      <th></th>\n",
       "      <th>Frequency</th>\n",
       "      <th>Label</th>\n",
       "      <th>Set</th>\n",
       "    </tr>\n",
       "  </thead>\n",
       "  <tbody>\n",
       "    <tr>\n",
       "      <th>0</th>\n",
       "      <td>210.0</td>\n",
       "      <td>healthy</td>\n",
       "      <td>validation</td>\n",
       "    </tr>\n",
       "    <tr>\n",
       "      <th>1</th>\n",
       "      <td>210.0</td>\n",
       "      <td>powdery_mildew</td>\n",
       "      <td>validation</td>\n",
       "    </tr>\n",
       "    <tr>\n",
       "      <th>2</th>\n",
       "      <td>1472.0</td>\n",
       "      <td>healthy</td>\n",
       "      <td>train</td>\n",
       "    </tr>\n",
       "    <tr>\n",
       "      <th>3</th>\n",
       "      <td>1472.0</td>\n",
       "      <td>powdery_mildew</td>\n",
       "      <td>train</td>\n",
       "    </tr>\n",
       "    <tr>\n",
       "      <th>4</th>\n",
       "      <td>422.0</td>\n",
       "      <td>healthy</td>\n",
       "      <td>test</td>\n",
       "    </tr>\n",
       "    <tr>\n",
       "      <th>5</th>\n",
       "      <td>422.0</td>\n",
       "      <td>powdery_mildew</td>\n",
       "      <td>test</td>\n",
       "    </tr>\n",
       "  </tbody>\n",
       "</table>\n",
       "</div>"
      ],
      "text/plain": [
       "   Frequency           Label         Set\n",
       "0      210.0         healthy  validation\n",
       "1      210.0  powdery_mildew  validation\n",
       "2     1472.0         healthy       train\n",
       "3     1472.0  powdery_mildew       train\n",
       "4      422.0         healthy        test\n",
       "5      422.0  powdery_mildew        test"
      ]
     },
     "execution_count": 20,
     "metadata": {},
     "output_type": "execute_result"
    }
   ],
   "source": [
    "my_data_dir = f\"inputs/mildew_detection/cherry_leaves\"\n",
    "sets = os.listdir(my_data_dir)\n",
    "df_freq = pd.DataFrame([]) \n",
    "\n",
    "for set in sets:\n",
    "    labels = os.listdir(my_data_dir + '/' + set)    \n",
    "    for label in labels:\n",
    "        files = os.listdir(my_data_dir + '/' + set + '/' + label)\n",
    "        df_freq = df_freq.append(\n",
    "            pd.Series(data={'Set': set,\n",
    "                            'Label': label,\n",
    "                            'Frequency':len(os.listdir(my_data_dir + '/' + set + '/' + label))}\n",
    "                      ),\n",
    "                      ignore_index=True)\n",
    "\n",
    "df_freq"
   ]
  },
  {
   "cell_type": "markdown",
   "metadata": {},
   "source": [
    "### Plot and save label distribution image\n",
    "We notice that the label distribution is even between all labels in all sets. The data is balanced and no further action is required."
   ]
  },
  {
   "cell_type": "code",
   "execution_count": 21,
   "metadata": {},
   "outputs": [
    {
     "data": {
      "image/png": "[encoded data removed]",
      "text/plain": [
       "<Figure size 800x500 with 1 Axes>"
      ]
     },
     "metadata": {},
     "output_type": "display_data"
    },
    {
     "data": {
      "text/plain": [
       "<Figure size 640x480 with 0 Axes>"
      ]
     },
     "metadata": {},
     "output_type": "display_data"
    }
   ],
   "source": [
    "sns.set_style(\"white\")\n",
    "plt.figure(figsize=(8,5))\n",
    "sns.barplot(data=df_freq, x='Set', y='Frequency', hue='Label')\n",
    "plt.show()\n",
    "\n",
    "plt.savefig(f\"{file_path}/label_distribution.png\", bbox_inches='tight', dpi=150)\n"
   ]
  },
  {
   "cell_type": "markdown",
   "metadata": {},
   "source": [
    "## Image shape\n",
    "Get the average image size\n",
    "\n",
    "We will use the average images size for the image size for the training model"
   ]
  },
  {
   "cell_type": "code",
   "execution_count": 8,
   "metadata": {},
   "outputs": [
    {
     "data": {
      "text/plain": [
       "<Figure size 640x480 with 1 Axes>"
      ]
     },
     "metadata": {},
     "output_type": "display_data"
    },
    {
     "name": "stdout",
     "output_type": "stream",
     "text": [
      "Width average: 256 \n",
      "Height average: 256\n"
     ]
    },
    {
     "data": {
      "text/plain": [
       "(256, 256, 3)"
      ]
     },
     "execution_count": 8,
     "metadata": {},
     "output_type": "execute_result"
    }
   ],
   "source": [
    "dim1, dim2 = [], []\n",
    "for label in labels:\n",
    "  for image_filename in os.listdir(train_path + '/'+ label):\n",
    "    img = imread(train_path + '/' + label + '/'+ image_filename)\n",
    "    d1, d2, colors = img.shape\n",
    "    dim1.append(d1) # image height\n",
    "    dim2.append(d2) # image width\n",
    "\n",
    "sns.set_style(\"whitegrid\")\n",
    "fig, axes = plt.subplots()\n",
    "sns.scatterplot(x=dim2, y=dim1, alpha=0.2)\n",
    "axes.set_xlabel(\"Width (pixels)\")\n",
    "axes.set_ylabel(\"Height (pixels)\")\n",
    "dim1_mean = int(np.array(dim1).mean())\n",
    "dim2_mean = int(np.array(dim2).mean())\n",
    "axes.axvline(x=dim1_mean,color='r', linestyle='--')\n",
    "axes.axhline(y=dim2_mean,color='r', linestyle='--')\n",
    "plt.show()\n",
    "print(f\"Width average: {dim2_mean} \\nHeight average: {dim1_mean}\")\n",
    "\n",
    "image_shape = (dim1_mean, dim2_mean, 3)\n",
    "image_shape"
   ]
  },
  {
   "cell_type": "markdown",
   "metadata": {},
   "source": [
    "Save the image shape"
   ]
  },
  {
   "cell_type": "code",
   "execution_count": 9,
   "metadata": {},
   "outputs": [
    {
     "data": {
      "text/plain": [
       "['outputs/v1/image_shape.pkl']"
      ]
     },
     "execution_count": 9,
     "metadata": {},
     "output_type": "execute_result"
    }
   ],
   "source": [
    "joblib.dump(value=image_shape ,\n",
    "            filename=f\"{file_path}/image_shape.pkl\")"
   ]
  },
  {
   "cell_type": "markdown",
   "metadata": {},
   "source": [
    "---"
   ]
  },
  {
   "cell_type": "markdown",
   "metadata": {},
   "source": [
    "# Average and variability of images per label\n",
    "\n",
    "Each image will be saved to the output file when created. These images will be used in the streamlit dashboard.\n",
    "\n",
    "## Function to load images in an array (tensor)"
   ]
  },
  {
   "cell_type": "code",
   "execution_count": 10,
   "metadata": {},
   "outputs": [],
   "source": [
    "from tensorflow.keras.preprocessing import image\n",
    "\n",
    "def load_image_as_array(my_data_dir, new_size=(50,50), n_images_per_label = 20):\n",
    "  \n",
    "  X, y = np.array([], dtype='int'), np.array([], dtype='object')\n",
    "  labels = os.listdir(my_data_dir)\n",
    "\n",
    "  for label in labels:\n",
    "    counter = 0\n",
    "    for image_filename in os.listdir(my_data_dir + '/' + label):\n",
    "      # n_images_per_label: we set a limit, since it may take too much time\n",
    "      if counter < n_images_per_label:\n",
    "        \n",
    "        img = image.load_img(my_data_dir + '/' + label + '/' + image_filename, target_size=new_size)\n",
    "        if image.img_to_array(img).max() > 1: \n",
    "          img_resized = image.img_to_array(img) / 255\n",
    "        else: \n",
    "          img_resized = image.img_to_array(img)\n",
    "        \n",
    "        X = np.append(X, img_resized).reshape(-1, new_size[0], new_size[1], img_resized.shape[2])\n",
    "        y = np.append(y, label)\n",
    "        counter += 1\n",
    "\n",
    "  return X, y"
   ]
  },
  {
   "cell_type": "markdown",
   "metadata": {},
   "source": [
    "## Load image shape and labels in array"
   ]
  },
  {
   "cell_type": "code",
   "execution_count": 11,
   "metadata": {},
   "outputs": [
    {
     "name": "stdout",
     "output_type": "stream",
     "text": [
      "(60, 256, 256, 3) (60,)\n"
     ]
    }
   ],
   "source": [
    "X, y = load_image_as_array(my_data_dir=train_path,\n",
    "                           new_size=image_shape,\n",
    "                          n_images_per_label = 30)\n",
    "print(X.shape, y.shape)"
   ]
  },
  {
   "cell_type": "markdown",
   "metadata": {},
   "source": [
    "## Plot and save mean and variability of images per label"
   ]
  },
  {
   "cell_type": "code",
   "execution_count": 12,
   "metadata": {},
   "outputs": [],
   "source": [
    "def plot_mean_variability_per_labels(X, y, figsize=(12,5), save_image=False):\n",
    "  \"\"\"\n",
    "   The pseudo code for the function is:\n",
    "  * Loop in all labels\n",
    "  * Subset an array for given label\n",
    "  * Calculate mean and standard deviation\n",
    "  * Create a figure displaying mean and variability of images\n",
    "  * Save image\n",
    "\n",
    "  \"\"\"\n",
    "\n",
    "  for label_to_display in np.unique(y):\n",
    "    sns.set_style(\"white\")\n",
    "\n",
    "    y = y.reshape(-1,1,1)\n",
    "    boolean_mask = np.any(y==label_to_display,axis=1).reshape(-1)\n",
    "    arr = X[boolean_mask]\n",
    "\n",
    "    avg_img = np.mean(arr, axis = 0)\n",
    "    std_img = np.std(arr, axis = 0)\n",
    "    print(f\"==== Label {label_to_display} ====\")\n",
    "    print(f\"Image Shape: {avg_img.shape}\")\n",
    "    fig, axes = plt.subplots(nrows=1, ncols=2, figsize=figsize)\n",
    "    axes[0].set_title(f\"Average Image for label {label_to_display}\")\n",
    "    axes[0].imshow(avg_img, cmap='gray')\n",
    "    axes[1].set_title(f\"Variability image for label {label_to_display}\")\n",
    "    axes[1].imshow(std_img, cmap='gray')\n",
    "\n",
    "    if save_image:\n",
    "      plt.savefig(f\"{file_path}/avg_var_{label_to_display}.png\", bbox_inches='tight', dpi=150)\n",
    "    else:\n",
    "      plt.tight_layout()\n",
    "      plt.show()\n",
    "      print(\"\\n\")"
   ]
  },
  {
   "cell_type": "code",
   "execution_count": 13,
   "metadata": {},
   "outputs": [
    {
     "name": "stdout",
     "output_type": "stream",
     "text": [
      "==== Label healthy ====\n",
      "Image Shape: (256, 256, 3)\n",
      "==== Label powdery_mildew ====\n",
      "Image Shape: (256, 256, 3)\n"
     ]
    },
    {
     "data": {
      "text/plain": [
       "<Figure size 1200x500 with 2 Axes>"
      ]
     },
     "metadata": {},
     "output_type": "display_data"
    },
    {
     "data": {
      "text/plain": [
       "<Figure size 1200x500 with 2 Axes>"
      ]
     },
     "metadata": {},
     "output_type": "display_data"
    }
   ],
   "source": [
    "plot_mean_variability_per_labels(X=X, y=y, figsize=(12,5),save_image=True)"
   ]
  },
  {
   "cell_type": "markdown",
   "metadata": {},
   "source": [
    "---"
   ]
  },
  {
   "cell_type": "markdown",
   "metadata": {},
   "source": [
    "## Difference between average parasite-contained and average uninfected cell images"
   ]
  },
  {
   "cell_type": "code",
   "execution_count": 14,
   "metadata": {},
   "outputs": [],
   "source": [
    "def subset_image_label(X,y,label_to_display):\n",
    "  y = y.reshape(-1,1,1)\n",
    "  boolean_mask = np.any(y==label_to_display,axis=1).reshape(-1)\n",
    "  df = X[boolean_mask]\n",
    "  return df\n",
    "\n",
    "\n",
    "def diff_bet_avg_image_labels_data_as_array(X, y, label_1, label_2, figsize=(20,5), save_image=False):\n",
    "  sns.set_style(\"white\")\n",
    "\n",
    "  if (label_1 not in np.unique(y)) or (label_2 not in np.unique(y)):\n",
    "    print(f\"Either label {label} or label {label_2}, are not in {np.unique(y)} \")\n",
    "    return\n",
    "\n",
    "  # calculate mean from label1\n",
    "  images_label = subset_image_label(X, y, label_1)\n",
    "  label1_avg = np.mean(images_label, axis = 0)\n",
    "\n",
    "  # calculate mean from label2\n",
    "  images_label = subset_image_label(X, y, label_2)\n",
    "  label2_avg = np.mean(images_label, axis = 0)\n",
    "\n",
    "  # calculate difference and plot difference, avg label1 and avg label2\n",
    "  difference_mean = label1_avg - label2_avg\n",
    "  fig, axes = plt.subplots(nrows=1, ncols=3, figsize=figsize)\n",
    "  axes[0].imshow(label1_avg, cmap='gray')\n",
    "  axes[0].set_title(f'Average {label_1}')\n",
    "  axes[1].imshow(label2_avg, cmap='gray')\n",
    "  axes[1].set_title(f'Average {label_2}')\n",
    "  axes[2].imshow(difference_mean, cmap='gray')\n",
    "  axes[2].set_title(f'Difference image: Avg {label_1} & {label_2}')\n",
    "  if save_image:\n",
    "    plt.savefig(f\"{file_path}/avg_diff.png\", bbox_inches='tight', dpi=150)\n",
    "  else:\n",
    "    plt.tight_layout()\n",
    "    plt.show()"
   ]
  },
  {
   "cell_type": "code",
   "execution_count": 16,
   "metadata": {},
   "outputs": [
    {
     "name": "stderr",
     "output_type": "stream",
     "text": [
      "Clipping input data to the valid range for imshow with RGB data ([0..1] for floats or [0..255] for integers).\n"
     ]
    },
    {
     "data": {
      "text/plain": [
       "<Figure size 1200x1000 with 3 Axes>"
      ]
     },
     "metadata": {},
     "output_type": "display_data"
    }
   ],
   "source": [
    "diff_bet_avg_image_labels_data_as_array(X=X, y=y,\n",
    "                                        label_1='healthy', label_2='powdery_mildew',\n",
    "                                        figsize=(12,10),\n",
    "                                        save_image=True\n",
    "                                        )"
   ]
  },
  {
   "cell_type": "markdown",
   "metadata": {},
   "source": [
    "---"
   ]
  },
  {
   "cell_type": "markdown",
   "metadata": {},
   "source": [
    "## Image Montage"
   ]
  },
  {
   "cell_type": "code",
   "execution_count": 18,
   "metadata": {},
   "outputs": [],
   "source": [
    "import itertools\n",
    "import random\n",
    "sns.set_style(\"white\")\n",
    "\n",
    "# logic\n",
    "# if label exists in the folder\n",
    "  # check if your montage space is greater tha nsubset size\n",
    "  # create list of axes indices based on nrows and ncols\n",
    "  # create a Figure and display images\n",
    "    # in this loop, load and plot given image\n",
    "\n",
    "\n",
    "def image_montage(dir_path, label_to_display, nrows, ncols, figsize=(15,10)):\n",
    "  \n",
    "\n",
    "  labels = os.listdir(dir_path)\n",
    "\n",
    "  # subset the class you are interested to display\n",
    "  if label_to_display in labels:\n",
    "\n",
    "    # checks if your montage space is greater than subset size\n",
    "    images_list = os.listdir(dir_path+'/'+ label_to_display)\n",
    "    if nrows * ncols < len(images_list):\n",
    "      img_idx = random.sample(images_list, nrows * ncols)\n",
    "    else:\n",
    "      print(\n",
    "          f\"Decrease nrows or ncols to create your montage. \\n\"\n",
    "          f\"There are {len(images_list)} in your subset. \"\n",
    "          f\"You requested a montage with {nrows * ncols} spaces\")\n",
    "      return\n",
    "    \n",
    "\n",
    "    # create list of axes indices based on nrows and ncols\n",
    "    list_rows= range(0,nrows)\n",
    "    list_cols= range(0,ncols)\n",
    "    plot_idx = list(itertools.product(list_rows,list_cols))\n",
    "\n",
    "\n",
    "    # create a Figure and display images\n",
    "    fig, axes = plt.subplots(nrows=nrows,ncols=ncols, figsize=figsize)\n",
    "    for x in range(0,nrows*ncols):\n",
    "      img = imread(dir_path + '/' + label_to_display + '/' + img_idx[x])\n",
    "      img_shape = img.shape\n",
    "      axes[plot_idx[x][0], plot_idx[x][1]].imshow(img)\n",
    "      axes[plot_idx[x][0], plot_idx[x][1]].set_title(f\"Width {img_shape[1]}px x Height {img_shape[0]}px\")\n",
    "      axes[plot_idx[x][0], plot_idx[x][1]].set_xticks([])\n",
    "      axes[plot_idx[x][0], plot_idx[x][1]].set_yticks([])\n",
    "    plt.tight_layout()\n",
    "    plt.show()\n",
    "\n",
    "\n",
    "  else:\n",
    "    print(\"The label you selected doesn't exist.\")\n",
    "    print(f\"The existing options are: {labels}\")"
   ]
  },
  {
   "cell_type": "markdown",
   "metadata": {},
   "source": [
    "Create image montage for each lebel"
   ]
  },
  {
   "cell_type": "code",
   "execution_count": 19,
   "metadata": {},
   "outputs": [
    {
     "name": "stdout",
     "output_type": "stream",
     "text": [
      "powdery_mildew\n"
     ]
    },
    {
     "data": {
      "text/plain": [
       "<Figure size 1000x1500 with 9 Axes>"
      ]
     },
     "metadata": {},
     "output_type": "display_data"
    },
    {
     "name": "stdout",
     "output_type": "stream",
     "text": [
      "\n",
      "\n",
      "healthy\n"
     ]
    },
    {
     "data": {
      "text/plain": [
       "<Figure size 1000x1500 with 9 Axes>"
      ]
     },
     "metadata": {},
     "output_type": "display_data"
    },
    {
     "name": "stdout",
     "output_type": "stream",
     "text": [
      "\n",
      "\n"
     ]
    }
   ],
   "source": [
    "for label in labels:\n",
    "  print(label)\n",
    "  image_montage(dir_path= train_path,\n",
    "                label_to_display= label,\n",
    "                nrows=3, ncols=3,\n",
    "                figsize=(10,15)\n",
    "                )\n",
    "  print(\"\\n\")"
   ]
  },
  {
   "cell_type": "code",
   "execution_count": null,
   "metadata": {},
   "outputs": [],
   "source": []
  }
 ],
 "metadata": {
  "accelerator": "GPU",
  "colab": {
   "name": "Data Practitioner Jupyter Notebook.ipynb",
   "provenance": [],
   "toc_visible": true
  },
  "interpreter": {
   "hash": "8b8334dab9339717f727a1deaf837b322d7a41c20d15cc86be99a8e69ceec8ce"
  },
  "kernelspec": {
   "display_name": "Python 3 (ipykernel)",
   "language": "python",
   "name": "python3"
  },
  "language_info": {
   "codemirror_mode": {
    "name": "ipython",
    "version": 3
   },
   "file_extension": ".py",
   "mimetype": "text/x-python",
   "name": "python",
   "nbconvert_exporter": "python",
   "pygments_lexer": "ipython3",
   "version": "3.8.12"
  }
 },
 "nbformat": 4,
 "nbformat_minor": 4
}
